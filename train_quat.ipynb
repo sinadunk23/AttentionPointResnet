{
 "cells": [
  {
   "cell_type": "code",
   "execution_count": 1,
   "metadata": {},
   "outputs": [
    {
     "name": "stdout",
     "output_type": "stream",
     "text": [
      "Jupyter environment detected. Enabling Open3D WebVisualizer.\n",
      "[Open3D INFO] WebRTC GUI backend enabled.\n",
      "[Open3D INFO] WebRTCWindowSystem: HTTP handshake server disabled.\n"
     ]
    }
   ],
   "source": [
    "import sys\n",
    "sys.path.insert(1, 'data_utils')\n",
    "sys.path.insert(1, 'models/')\n",
    "\n",
    "from transform_functions import PCRNetTransform as transform\n",
    "import transform_functions\n",
    "from modelnet_reg_utils import ModelNet40Data, RegistrationData\n",
    "from torch.utils.data import DataLoader\n",
    "from losses.mse import loss_function\n",
    "from pytorch3d.loss import chamfer_distance\n",
    "import torch\n",
    "from tqdm import tqdm\n",
    "import numpy as np\n",
    "import os\n",
    "import open3d as o3d\n",
    "import torch.nn as nn\n",
    "import torch.nn.functional as F\n",
    "from torch.optim.lr_scheduler import MultiStepLR\n",
    "import time\n",
    "from models.feature_models import PointResNet, AttentionPointResNet, PointNet, AttentionPointResNetV2\n",
    "from models.attention_pooling import AttentionPooling\n",
    "from utils.load_model import load_model\n",
    "from args import Args\n",
    "arger = Args()\n",
    "SAVEDIR = 'checkpoints/pointresnetv2/mse/'"
   ]
  },
  {
   "attachments": {},
   "cell_type": "markdown",
   "metadata": {},
   "source": [
    "## PointNet"
   ]
  },
  {
   "cell_type": "code",
   "execution_count": 2,
   "metadata": {},
   "outputs": [],
   "source": [
    "import torch.nn as nn\n",
    "import torch.nn.functional as F\n",
    "\n",
    "class get_model(nn.Module):\n",
    "    def __init__(self,args,  feature_extractor = PointResNet):\n",
    "        super(get_model, self).__init__()\n",
    "        self.args = args\n",
    "        self.feature_extractor = feature_extractor(self.args)\n",
    "        if self.args.load_pretrained_feature_extractor:\n",
    "            self.feature_extractor = load_model(self.feature_extractor, self.args.feature_extractor_path)\n",
    "            print(\"Loaded pretrained feature extractor\")\n",
    "        if self.args.freeeze_feature_extractor:\n",
    "            for param in self.feature_extractor.parameters():\n",
    "                param.requires_grad = False\n",
    "            print(\"Freezed feature extractor\")\n",
    "        # if self.args.attention_pooling:\n",
    "        #     self.attentional_pooling = AttentionPooling()\n",
    "        # else:\n",
    "        #     self.attentional_pooling = None\n",
    "    def forward(self, x):\n",
    "        x_feat = self.feature_extractor(x)\n",
    "        # if self.args.attention_pooling:\n",
    "        #     x_feat= self.attentional_pooling(x_ap, x_mp)\n",
    "        # else:\n",
    "        #     x_feat = x_mp\n",
    "        return x_feat"
   ]
  },
  {
   "attachments": {},
   "cell_type": "markdown",
   "metadata": {},
   "source": [
    "## PCRNet"
   ]
  },
  {
   "cell_type": "code",
   "execution_count": 3,
   "metadata": {},
   "outputs": [],
   "source": [
    "class iPCRNet(nn.Module):\n",
    "\tdef __init__(self, feature_model, droput=0.0):\n",
    "\t\tsuper().__init__()\n",
    "\t\tself.feature_model = feature_model\n",
    "\n",
    "\t\tself.linear = [nn.Linear(1024 * 2, 1024), nn.ReLU(),\n",
    "\t\t\t\t   \t   nn.Linear(1024, 1024), nn.ReLU(),\n",
    "\t\t\t\t   \t   nn.Linear(1024, 512), nn.ReLU(),\n",
    "\t\t\t\t   \t   nn.Linear(512, 512), nn.ReLU(),\n",
    "\t\t\t\t   \t   nn.Linear(512, 256), nn.ReLU()]\n",
    "\n",
    "\t\tif droput>0.0:\n",
    "\t\t\tself.linear.append(nn.Dropout(droput))\n",
    "\t\tself.linear.append(nn.Linear(256,7))\n",
    "\n",
    "\t\tself.linear = nn.Sequential(*self.linear)\n",
    "\n",
    "\t# Single Pass Alignment Module (SPAM)\n",
    "\tdef spam(self, template_features, source, est_R, est_t):\n",
    "\t\tbatch_size = source.size(0)\n",
    "\t\tself.source_features = self.feature_model(source.permute(0,2,1))\n",
    "\t\ty = torch.cat([template_features, self.source_features], dim=1)\n",
    "\t\tpose_7d = self.linear(y)\n",
    "\t\tpose_7d = transform.create_pose_7d(pose_7d)\n",
    "\n",
    "\t\t# Find current rotation and translation.\n",
    "\t\tidentity = torch.eye(3).to(source).view(1,3,3).expand(batch_size, 3, 3).contiguous()\n",
    "\t\test_R_temp = transform.quaternion_rotate(identity, pose_7d).permute(0, 2, 1)\n",
    "\t\test_t_temp = transform.get_translation(pose_7d).view(-1, 1, 3)\n",
    "\n",
    "\t\t# update translation matrix.\n",
    "\t\test_t = torch.bmm(est_R_temp, est_t.permute(0, 2, 1)).permute(0, 2, 1) + est_t_temp\n",
    "\t\t# update rotation matrix.\n",
    "\t\test_R = torch.bmm(est_R_temp, est_R)\n",
    "\t\t\n",
    "\t\tsource = transform.quaternion_transform(source, pose_7d)      # Ps' = est_R*Ps + est_t\n",
    "\t\treturn est_R, est_t, source\n",
    "\n",
    "\tdef forward(self, template, source, max_iteration=3):\n",
    "\t\test_R = torch.eye(3).to(template).view(1, 3, 3).expand(template.size(0), 3, 3).contiguous()         # (Bx3x3)\n",
    "\t\test_t = torch.zeros(1,3).to(template).view(1, 1, 3).expand(template.size(0), 1, 3).contiguous()     # (Bx1x3)\n",
    "\t\ttemplate_features = self.feature_model(template.permute(0,2,1))\n",
    "\t\tif max_iteration == 1:\n",
    "\t\t\test_R, est_t, source = self.spam(template_features, source, est_R, est_t)\n",
    "\t\telse:\n",
    "\t\t\tfor i in range(max_iteration):\n",
    "\t\t\t\test_R, est_t, source = self.spam(template_features, source, est_R, est_t)\n",
    "\n",
    "\t\tresult = {'est_R': est_R,\t\t\t\t# source -> template\n",
    "\t\t\t\t  'est_t': est_t,\t\t\t\t# source -> template\n",
    "\t\t\t\t  'est_T': transform.convert2transformation(est_R, est_t),\t\t\t# source -> template\n",
    "\t\t\t\t  'r': template_features - self.source_features,\n",
    "\t\t\t\t  'transformed_source': source}\n",
    "\t\treturn result"
   ]
  },
  {
   "cell_type": "code",
   "execution_count": 4,
   "metadata": {},
   "outputs": [],
   "source": [
    "def visualize_with_trans(source, template, trans):\n",
    "    src_b = source.detach().cpu().numpy()\n",
    "    tar_b = template.detach().cpu().numpy()\n",
    "    trans_b = trans.detach().cpu().numpy()\n",
    "\n",
    "    for i in range(src_b.shape[0]):\n",
    "        src = o3d.geometry.PointCloud(o3d.utility.Vector3dVector(src_b[i])).paint_uniform_color([1, 0.706, 0])\n",
    "        tar = o3d.geometry.PointCloud(o3d.utility.Vector3dVector(tar_b[i])).paint_uniform_color([0, 0.651, 0.929])\n",
    "        src.transform(trans_b[i])\n",
    "        o3d.visualization.draw_geometries([src, tar])"
   ]
  },
  {
   "cell_type": "code",
   "execution_count": 5,
   "metadata": {},
   "outputs": [],
   "source": [
    "def batch_inverse(T):\n",
    "    \"\"\"\n",
    "    Invert a batch of 4x4 transformation matrices.\n",
    "    Args:\n",
    "        T: A torch tensor of shape (B, 4, 4), where B is the batch size.\n",
    "    Returns:\n",
    "        inv_T: A torch tensor of shape (B, 4, 4), where each 4x4 matrix\n",
    "               is the inverse of the corresponding input matrix.\n",
    "    \"\"\"\n",
    "    B = T.shape[0]\n",
    "    inv_T = torch.zeros_like(T)\n",
    "    for i in range(B):\n",
    "        inv_T[i] = torch.inverse(T[i])\n",
    "    return inv_T"
   ]
  },
  {
   "attachments": {},
   "cell_type": "markdown",
   "metadata": {},
   "source": [
    "## Training"
   ]
  },
  {
   "cell_type": "code",
   "execution_count": 6,
   "metadata": {},
   "outputs": [],
   "source": [
    "def test_one_epoch(device, model, test_loader):\n",
    "\tmodel.eval()\n",
    "\ttest_loss = 0.0\n",
    "\tcount = 0\n",
    "\tchamfer_loss = 0\n",
    "\twith torch.no_grad():\n",
    "\t\tfor i, data in enumerate(tqdm(test_loader)):\n",
    "\t\t\ttemplate, source, _, igt_R, igt_t = data\n",
    "\t\t\tbatch_size = template.size(0)\n",
    "\t\t\tsource = source.to(device)\n",
    "\t\t\ttemplate = template.to(device)\n",
    "\t\t\t#igt = igt.to(device)\n",
    "\t\t\tigt_R = igt_R.to(device)\n",
    "\t\t\tigt_t = igt_t.to(device)\n",
    "\t\t\t# mean substraction\n",
    "\t\t\tigt_t = igt_t - torch.mean(source, dim=1).unsqueeze(1)\n",
    "\t\t\tsource = source - torch.mean(source, dim=1, keepdim=True)\n",
    "\t\t\ttemplate = template - torch.mean(template, dim=1, keepdim=True)\n",
    "\t\t\t\n",
    "\t\t\toutput = model(template, source)\n",
    "\t\t\tigt = batch_inverse(transform.convert2transformation(igt_R, igt_t).to(device))\n",
    "\t\t\tchamfer_loss += chamfer_distance(template, output['transformed_source'])[0]\n",
    "\t\t\t# loss = loss_function(output['est_R'], output['est_t'].squeeze(1), igt[:,0:3,0:3], igt[:,0:3,3]) \n",
    "\t\t\t# rot_rmse  += loss['rotation_rmse']\n",
    "\t\t\t# rot_mae += loss['rotation_mae']\n",
    "\t\t\t# trans_rmse += loss['translation_rmse']\n",
    "\t\t\t# trans_mae += loss['translation_mae']\n",
    "\t\t\t# total_loss = (loss['rotation_rmse']) + translation_factor * loss['translation_rmse']\n",
    "\t\t\tidentity = torch.eye(3).cuda().unsqueeze(0).repeat(batch_size, 1, 1)\n",
    "\t\t\ttotal_loss = F.mse_loss(torch.matmul(output['est_R'].transpose(2, 1), igt[:,0:3,0:3]), identity) \\\n",
    "               + F.mse_loss(output['est_t'].squeeze(1), igt[:,0:3,3])\n",
    "\t\t\t# total_loss = (loss['rotation_rmse']) + translation_factor * loss['translation_rmse']\n",
    "\t\t\ttest_loss += total_loss.item()\n",
    "\t\t\tcount += 1\n",
    "\ttest_loss = float(test_loss)/count\n",
    "\tprint(\"Test loss is {}\".format(test_loss))\n",
    "\tprint(\"Chamfer loss is {}\".format(chamfer_loss/count))\n",
    "\treturn test_loss\n",
    "\n",
    "def train_one_epoch(device, model, train_loader, optimizer, cycle_loss = True):\n",
    "\tmodel.train()\n",
    "\ttrain_loss = 0.0\n",
    "\tcount = 0\n",
    "\tfor i, data in enumerate(tqdm(train_loader)):\n",
    "\t\ttemplate, source, _, igt_R, igt_t = data\n",
    "\t\tbatch_size = template.size(0)\n",
    "\t\tsource = source.to(device)\n",
    "\t\ttemplate = template.to(device)\n",
    "\t\t#igt = igt.to(device)\n",
    "\t\tigt_R = igt_R.to(device)\n",
    "\t\tigt_t = igt_t.to(device)\n",
    "\t\t# mean substraction\n",
    "\t\tigt_t = igt_t - torch.mean(source, dim=1).unsqueeze(1)\n",
    "\t\tsource = source - torch.mean(source, dim=1, keepdim=True)\n",
    "\t\ttemplate = template - torch.mean(template, dim=1, keepdim=True)\n",
    "\n",
    "\t\t\n",
    "\t\toutputab = model(template, source)\n",
    "\t\tidentity = torch.eye(3).cuda().unsqueeze(0).repeat(batch_size, 1, 1)\n",
    "\t\tigt = batch_inverse(transform.convert2transformation(igt_R, igt_t).to(device))\n",
    "\t\t# loss = loss_function(outputab['est_R'], outputab['est_t'].squeeze(1), igt[:,0:3,0:3], igt[:,0:3,3]) \n",
    "\t\ttotal_loss = 1.5 * F.mse_loss(torch.matmul(outputab['est_R'].transpose(2, 1), igt[:,0:3,0:3]), identity) \\\n",
    "               + F.mse_loss(outputab['est_t'].squeeze(1), igt[:,0:3,3])\n",
    "\t\t# total_loss = (loss['rotation_rmse']) + translation_factor * loss['translation_rmse']\n",
    "\t\tif cycle_loss:\n",
    "\t\t\toutputba = model(source, template)\n",
    "\t\t\tidentity = torch.eye(3).cuda().unsqueeze(0).repeat(batch_size, 1, 1)\n",
    "\t\t\trotation_loss = F.mse_loss(torch.matmul(outputba['est_R'], outputab['est_R']), identity.clone())\n",
    "\t\t\ttranslation_loss = torch.mean((torch.matmul(outputba['est_R'].transpose(2, 1),outputab['est_t'].view(batch_size, 3, 1)).view(batch_size, 3)+ outputba['est_t'].view(batch_size,3)) ** 2, dim=[0, 1])\n",
    "\t\t\tcycle_loss = 1.5 * rotation_loss + translation_loss\n",
    "\t\t\ttotal_loss = total_loss + cycle_loss * 0.1\n",
    "\t\t# forward + backward + optimize\n",
    "\t\toptimizer.zero_grad()\n",
    "\t\ttotal_loss.backward()\n",
    "\t\toptimizer.step()\n",
    "\t\t# visualize_with_trans(source, template, igt) \n",
    "\n",
    "\t\ttrain_loss += total_loss.item()\n",
    "\t\tcount += 1\n",
    "\t\n",
    "\ttrain_loss = float(train_loss)/count\n",
    "\treturn train_loss\n",
    "    "
   ]
  },
  {
   "cell_type": "code",
   "execution_count": 7,
   "metadata": {},
   "outputs": [],
   "source": [
    "def train(model, device, train_loader, test_loader, start_epoch):\n",
    "\tlearnable_params = filter(lambda p: p.requires_grad, model.parameters())\n",
    "\toptimizer = torch.optim.Adam(learnable_params, lr = 0.001)\n",
    "\tscheduler = MultiStepLR(optimizer, milestones=[50, 100, 150], gamma=0.1)\n",
    "\n",
    "\tbest_test_loss = np.inf\n",
    "\n",
    "\tfor epoch in range(start_epoch, 300):\n",
    "\t\ttrain_loss = train_one_epoch(device, model, train_loader, optimizer)\n",
    "\t\ttest_loss = test_one_epoch(device, model, test_loader)\n",
    "\n",
    "\t\tif test_loss<best_test_loss:\n",
    "\t\t\tbest_test_loss = test_loss\n",
    "\t\t\tsnap = {'epoch': epoch + 1,\n",
    "\t\t\t\t\t'model': model.state_dict(),\n",
    "\t\t\t\t\t'min_loss': best_test_loss,\n",
    "\t\t\t\t\t'optimizer' : optimizer.state_dict(),}\n",
    "\t\t\ttorch.save(snap, SAVEDIR + 'best_model_snap.t7')\n",
    "\t\t\t# torch.save(model.state_dict(), SAVEDIR + 'best_model.t7')\n",
    "\t\t\t# torch.save(model.feature_model.state_dict(), SAVEDIR + 'best_ptnet_model.t7')\n",
    "\t\t\tprint(\"Test loss after epoch # {} is : {}\".format(epoch, best_test_loss))\n",
    "\t\tscheduler.step()\n",
    "\t\t# torch.save(snap, SAVEDIR + 'model_snap.t7')\n",
    "\t\t# torch.save(model.state_dict(), SAVEDIR + 'model.t7')\n",
    "\t\t# torch.save(model.feature_model.state_dict(), SAVEDIR + 'ptnet_model.t7')"
   ]
  },
  {
   "cell_type": "code",
   "execution_count": 8,
   "metadata": {},
   "outputs": [],
   "source": [
    "BATCH_SIZE = 16\n",
    "trainset = RegistrationData('PCRNet', ModelNet40Data(train=True, download=True))\n",
    "testset = RegistrationData('PCRNet', ModelNet40Data(train=False, download=True))\n",
    "train_loader = DataLoader(trainset, batch_size=BATCH_SIZE , shuffle=True, drop_last=True, num_workers=2)\n",
    "test_loader = DataLoader(testset, batch_size=BATCH_SIZE , shuffle=False, drop_last=True, num_workers=2)"
   ]
  },
  {
   "attachments": {},
   "cell_type": "markdown",
   "metadata": {},
   "source": [
    "## Train"
   ]
  },
  {
   "cell_type": "code",
   "execution_count": 9,
   "metadata": {},
   "outputs": [],
   "source": [
    "if not torch.cuda.is_available():\n",
    "    device = 'cpu'\n",
    "else: \n",
    "    device = 'cuda:0'\n",
    "device = torch.device(device)\n",
    "\n",
    "# Create PointNet Model.\n",
    "ptnet = get_model(arger, feature_extractor= AttentionPointResNetV2)\n",
    "model = iPCRNet(feature_model=ptnet)"
   ]
  },
  {
   "cell_type": "code",
   "execution_count": 10,
   "metadata": {},
   "outputs": [
    {
     "name": "stdout",
     "output_type": "stream",
     "text": [
      "start from scratch\n"
     ]
    }
   ],
   "source": [
    "best_model_path = SAVEDIR + \"best_model_snap.t7\"\n",
    "LOAD = False\n",
    "if os.path.isfile(best_model_path) and LOAD:\n",
    "    print(\"Found checkpoint, loading weights\")\n",
    "    checkpoint = torch.load(best_model_path)\n",
    "    start_epoch = 0\n",
    "    model.load_state_dict(checkpoint['model'])\n",
    "    model.to(device)\n",
    "else:\n",
    "    print(\"start from scratch\")\n",
    "    start_epoch = 0\n",
    "    model.to(device)"
   ]
  },
  {
   "cell_type": "code",
   "execution_count": 11,
   "metadata": {},
   "outputs": [
    {
     "name": "stderr",
     "output_type": "stream",
     "text": [
      "100%|██████████| 615/615 [03:17<00:00,  3.11it/s]\n",
      "100%|██████████| 154/154 [00:18<00:00,  8.47it/s]\n"
     ]
    },
    {
     "name": "stdout",
     "output_type": "stream",
     "text": [
      "Test loss is 0.12121910645396679\n",
      "Chamfer loss is 0.05363178998231888\n",
      "Test loss after epoch # 0 is : 0.12121910645396679\n"
     ]
    },
    {
     "name": "stderr",
     "output_type": "stream",
     "text": [
      "100%|██████████| 615/615 [03:18<00:00,  3.10it/s]\n",
      "100%|██████████| 154/154 [00:17<00:00,  8.67it/s]\n"
     ]
    },
    {
     "name": "stdout",
     "output_type": "stream",
     "text": [
      "Test loss is 0.09915316063765582\n",
      "Chamfer loss is 0.04061540216207504\n",
      "Test loss after epoch # 1 is : 0.09915316063765582\n"
     ]
    },
    {
     "name": "stderr",
     "output_type": "stream",
     "text": [
      "100%|██████████| 615/615 [03:20<00:00,  3.07it/s]\n",
      "100%|██████████| 154/154 [00:17<00:00,  8.71it/s]\n"
     ]
    },
    {
     "name": "stdout",
     "output_type": "stream",
     "text": [
      "Test loss is 0.0768584128372468\n",
      "Chamfer loss is 0.029568037018179893\n",
      "Test loss after epoch # 2 is : 0.0768584128372468\n"
     ]
    },
    {
     "name": "stderr",
     "output_type": "stream",
     "text": [
      "100%|██████████| 615/615 [03:20<00:00,  3.06it/s]\n",
      "100%|██████████| 154/154 [00:17<00:00,  8.63it/s]\n"
     ]
    },
    {
     "name": "stdout",
     "output_type": "stream",
     "text": [
      "Test loss is 0.07084640057443024\n",
      "Chamfer loss is 0.02712406776845455\n",
      "Test loss after epoch # 3 is : 0.07084640057443024\n"
     ]
    },
    {
     "name": "stderr",
     "output_type": "stream",
     "text": [
      "100%|██████████| 615/615 [03:20<00:00,  3.06it/s]\n",
      "100%|██████████| 154/154 [00:17<00:00,  8.71it/s]\n"
     ]
    },
    {
     "name": "stdout",
     "output_type": "stream",
     "text": [
      "Test loss is 0.06808276268859188\n",
      "Chamfer loss is 0.026009587571024895\n",
      "Test loss after epoch # 4 is : 0.06808276268859188\n"
     ]
    },
    {
     "name": "stderr",
     "output_type": "stream",
     "text": [
      "100%|██████████| 615/615 [03:21<00:00,  3.06it/s]\n",
      "100%|██████████| 154/154 [00:17<00:00,  8.69it/s]\n"
     ]
    },
    {
     "name": "stdout",
     "output_type": "stream",
     "text": [
      "Test loss is 0.07175333754389317\n",
      "Chamfer loss is 0.027904780581593513\n"
     ]
    },
    {
     "name": "stderr",
     "output_type": "stream",
     "text": [
      "100%|██████████| 615/615 [03:19<00:00,  3.08it/s]\n",
      "100%|██████████| 154/154 [00:17<00:00,  8.64it/s]\n"
     ]
    },
    {
     "name": "stdout",
     "output_type": "stream",
     "text": [
      "Test loss is 0.07996066870143662\n",
      "Chamfer loss is 0.029882607981562614\n"
     ]
    },
    {
     "name": "stderr",
     "output_type": "stream",
     "text": [
      "100%|██████████| 615/615 [03:18<00:00,  3.09it/s]\n",
      "100%|██████████| 154/154 [00:17<00:00,  8.72it/s]\n"
     ]
    },
    {
     "name": "stdout",
     "output_type": "stream",
     "text": [
      "Test loss is 0.07008411447432908\n",
      "Chamfer loss is 0.026963986456394196\n"
     ]
    },
    {
     "name": "stderr",
     "output_type": "stream",
     "text": [
      "100%|██████████| 615/615 [03:19<00:00,  3.08it/s]\n",
      "100%|██████████| 154/154 [00:17<00:00,  8.73it/s]\n"
     ]
    },
    {
     "name": "stdout",
     "output_type": "stream",
     "text": [
      "Test loss is 0.06795093171637166\n",
      "Chamfer loss is 0.025990353897213936\n",
      "Test loss after epoch # 8 is : 0.06795093171637166\n"
     ]
    },
    {
     "name": "stderr",
     "output_type": "stream",
     "text": [
      "100%|██████████| 615/615 [03:19<00:00,  3.09it/s]\n",
      "100%|██████████| 154/154 [00:17<00:00,  8.68it/s]\n"
     ]
    },
    {
     "name": "stdout",
     "output_type": "stream",
     "text": [
      "Test loss is 0.06496807374060154\n",
      "Chamfer loss is 0.025673776865005493\n",
      "Test loss after epoch # 9 is : 0.06496807374060154\n"
     ]
    },
    {
     "name": "stderr",
     "output_type": "stream",
     "text": [
      "100%|██████████| 615/615 [03:18<00:00,  3.10it/s]\n",
      "100%|██████████| 154/154 [00:17<00:00,  8.69it/s]\n"
     ]
    },
    {
     "name": "stdout",
     "output_type": "stream",
     "text": [
      "Test loss is 0.07054179984253722\n",
      "Chamfer loss is 0.027509871870279312\n"
     ]
    },
    {
     "name": "stderr",
     "output_type": "stream",
     "text": [
      "100%|██████████| 615/615 [03:27<00:00,  2.97it/s]\n",
      "100%|██████████| 154/154 [00:18<00:00,  8.50it/s]\n"
     ]
    },
    {
     "name": "stdout",
     "output_type": "stream",
     "text": [
      "Test loss is 0.06399054906343098\n",
      "Chamfer loss is 0.024847226217389107\n",
      "Test loss after epoch # 11 is : 0.06399054906343098\n"
     ]
    },
    {
     "name": "stderr",
     "output_type": "stream",
     "text": [
      "100%|██████████| 615/615 [03:20<00:00,  3.07it/s]\n",
      "100%|██████████| 154/154 [00:18<00:00,  8.19it/s]\n"
     ]
    },
    {
     "name": "stdout",
     "output_type": "stream",
     "text": [
      "Test loss is 0.0668097310397145\n",
      "Chamfer loss is 0.025504272431135178\n"
     ]
    },
    {
     "name": "stderr",
     "output_type": "stream",
     "text": [
      "100%|██████████| 615/615 [03:25<00:00,  2.99it/s]\n",
      " 41%|████      | 63/154 [00:12<00:05, 15.22it/s]"
     ]
    }
   ],
   "source": [
    "train(model, device, train_loader, test_loader, start_epoch)"
   ]
  },
  {
   "attachments": {},
   "cell_type": "markdown",
   "metadata": {},
   "source": [
    "## Inferenece"
   ]
  },
  {
   "cell_type": "code",
   "execution_count": 12,
   "metadata": {},
   "outputs": [],
   "source": [
    "it = iter(test_loader)"
   ]
  },
  {
   "cell_type": "code",
   "execution_count": 13,
   "metadata": {},
   "outputs": [],
   "source": [
    "data = it._next_data()"
   ]
  },
  {
   "cell_type": "code",
   "execution_count": 14,
   "metadata": {},
   "outputs": [],
   "source": [
    "template = data[0]\n",
    "source= data[1]\n",
    "igt= data[2]\n",
    "template = template.to(device)\n",
    "source = source.to(device)\n",
    "igt = igt.to(device)\n",
    "source = source - torch.mean(source, dim=1, keepdim=True)\n",
    "template = template - torch.mean(template, dim=1, keepdim=True)"
   ]
  },
  {
   "cell_type": "code",
   "execution_count": 15,
   "metadata": {},
   "outputs": [
    {
     "name": "stdout",
     "output_type": "stream",
     "text": [
      "(tensor(0.0018, device='cuda:0', grad_fn=<AddBackward0>), None)\n"
     ]
    }
   ],
   "source": [
    "model.eval()\n",
    "output = model(template, source, max_iteration=3)\n",
    "loss_val = chamfer_distance(template, output['transformed_source'])\n",
    "print(loss_val)"
   ]
  },
  {
   "cell_type": "code",
   "execution_count": 16,
   "metadata": {},
   "outputs": [],
   "source": [
    "temp_cpu = template.cpu()\n",
    "source_pred_cpu = output['transformed_source'].cpu()\n",
    "source_cpu = source.cpu()"
   ]
  },
  {
   "cell_type": "code",
   "execution_count": 17,
   "metadata": {},
   "outputs": [],
   "source": [
    "for i in range(8):\n",
    "    template_cloud = o3d.geometry.PointCloud(o3d.utility.Vector3dVector(temp_cpu.detach().numpy()[i,:,:]))\n",
    "    template_cloud.paint_uniform_color(np.array([0,0,1]))#B\n",
    "    source_pred_cloud = o3d.geometry.PointCloud(o3d.utility.Vector3dVector(source_pred_cpu.detach().numpy()[i,:,:]))\n",
    "    source_pred_cloud.paint_uniform_color(np.array([1,0,0]))#R\n",
    "    source_cloud = o3d.geometry.PointCloud(o3d.utility.Vector3dVector(source_cpu.detach().numpy()[i,:,:]))\n",
    "    source_cloud.paint_uniform_color(np.array([0,1,0]))#G\n",
    "    o3d.visualization.draw_geometries([template_cloud, source_pred_cloud, source_cloud])"
   ]
  }
 ],
 "metadata": {
  "kernelspec": {
   "display_name": "pytorch3d",
   "language": "python",
   "name": "python3"
  },
  "language_info": {
   "codemirror_mode": {
    "name": "ipython",
    "version": 3
   },
   "file_extension": ".py",
   "mimetype": "text/x-python",
   "name": "python",
   "nbconvert_exporter": "python",
   "pygments_lexer": "ipython3",
   "version": "3.9.16"
  },
  "orig_nbformat": 4
 },
 "nbformat": 4,
 "nbformat_minor": 2
}
