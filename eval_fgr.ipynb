{
 "cells": [
  {
   "cell_type": "code",
   "execution_count": 1,
   "metadata": {},
   "outputs": [
    {
     "name": "stdout",
     "output_type": "stream",
     "text": [
      "Jupyter environment detected. Enabling Open3D WebVisualizer.\n",
      "[Open3D INFO] WebRTC GUI backend enabled.\n",
      "[Open3D INFO] WebRTCWindowSystem: HTTP handshake server disabled.\n"
     ]
    }
   ],
   "source": [
    "import sys\n",
    "sys.path.insert(1, 'data_utils')\n",
    "sys.path.insert(1, 'models/')\n",
    "\n",
    "import open3d as o3d\n",
    "import numpy as np\n",
    "import torch\n",
    "import torch.nn as nn\n",
    "import torch.nn.functional as F\n",
    "from modelnet_reg_utils import ModelNet40Data, RegistrationData\n",
    "from torch.utils.data import DataLoader\n",
    "from tqdm import tqdm\n",
    "import copy\n",
    "from scipy.spatial.transform import Rotation\n",
    "import transforms3d"
   ]
  },
  {
   "cell_type": "code",
   "execution_count": 2,
   "metadata": {},
   "outputs": [],
   "source": [
    "BATCH_SIZE = 16\n",
    "testset = RegistrationData(ModelNet40Data(train=False, download=True), is_testing=True, \n",
    "                           angle_range=90, translation_range=1, add_noise=True, shuffle_points=True)\n",
    "test_loader = DataLoader(testset, batch_size=BATCH_SIZE, shuffle=False, drop_last=True, num_workers=2)"
   ]
  },
  {
   "cell_type": "code",
   "execution_count": 3,
   "metadata": {},
   "outputs": [],
   "source": [
    "def display_open3d(template, source, transformation):\n",
    "\t\"\"\"\n",
    "\tDisplay the template, source and transformed source point clouds using open3d\n",
    "\tThe Red and Blue point clouds should overlap perfectly if the transformation is correct\n",
    "\tThe Green point cloud should be far away from the Red and Blue point clouds\"\"\"\n",
    "\ttemplate_ = o3d.geometry.PointCloud()\n",
    "\tsource_ = o3d.geometry.PointCloud()\n",
    "\ttemplate_.points = o3d.utility.Vector3dVector(template)\n",
    "\tsource_.points = o3d.utility.Vector3dVector(source)\n",
    "\ttransformed_source_ = copy.deepcopy(source_)\n",
    "\ttransformed_source_ = transformed_source_.transform(transformation)\n",
    "\ttemplate_.paint_uniform_color([1, 0, 0]) # Red\n",
    "\tsource_.paint_uniform_color([0, 1, 0]) # Green\n",
    "\ttransformed_source_.paint_uniform_color([0, 0, 1]) #Blue\n",
    "\to3d.visualization.draw_geometries([template_, source_, transformed_source_])"
   ]
  },
  {
   "cell_type": "code",
   "execution_count": 4,
   "metadata": {},
   "outputs": [],
   "source": [
    "def convert_to_trans(R,t):\n",
    "    \"\"\"\n",
    "    convert rotation matrix and translation vector to transformation matrix\n",
    "    \"\"\"\n",
    "    T = np.zeros((4,4))\n",
    "    T[:3,:3] = R\n",
    "    T[:3,3] = t\n",
    "    T[3,3] = 1\n",
    "    return T"
   ]
  },
  {
   "cell_type": "code",
   "execution_count": 5,
   "metadata": {},
   "outputs": [],
   "source": [
    "def inverse(R):\n",
    "    \"\"\"\n",
    "    inverse of rotation matrix\n",
    "    \"\"\"\n",
    "    return R.T"
   ]
  },
  {
   "cell_type": "code",
   "execution_count": 6,
   "metadata": {},
   "outputs": [],
   "source": [
    "def preprocess_point_cloud(pcd, voxel_size):\n",
    "    radius_normal = voxel_size * 2\n",
    "    pcd.estimate_normals(\n",
    "        o3d.geometry.KDTreeSearchParamHybrid(radius=radius_normal, max_nn=10))\n",
    "    radius_feature = voxel_size * 5\n",
    "    pcd_fpfh = o3d.pipelines.registration.compute_fpfh_feature(pcd,\n",
    "        o3d.geometry.KDTreeSearchParamHybrid(radius=radius_feature, max_nn=30))\n",
    "    return pcd, pcd_fpfh"
   ]
  },
  {
   "cell_type": "code",
   "execution_count": 7,
   "metadata": {},
   "outputs": [],
   "source": [
    "def evaluate_icp(voxel_size, test_loader):\n",
    "    r_mse = 0\n",
    "    t_mse = 0\n",
    "    r_mae = 0\n",
    "    t_mae = 0\n",
    "    idx = []\n",
    "    r_idx = []\n",
    "    count = 0\n",
    "    for j, data in enumerate(tqdm(test_loader)):\n",
    "        template, source, igt, igt_R, igt_t = data\n",
    "        template = template.detach().numpy()\n",
    "        source = source.detach().numpy()\n",
    "        igt = igt.detach().numpy()\n",
    "        igt_R = igt_R.detach().numpy()\n",
    "        igt_t = igt_t.detach().numpy()\n",
    "        for i in range(template.shape[0]):\n",
    "            gt_t  = igt_t[i] - np.mean(igt_t[i], axis=0)\n",
    "            gt_R = igt_R[i]\n",
    "            src = template[i] - np.mean(template[i], axis=0)\n",
    "            tgt = source[i] - np.mean(source[i], axis=0)\n",
    "            # gt_tsf = convert_to_trans(gt_R,gt_t)\n",
    "            src_cloud, source_fpfh = preprocess_point_cloud(o3d.geometry.PointCloud(o3d.utility.Vector3dVector(src)), voxel_size)\n",
    "            tgt_cloud, target_fpfh = preprocess_point_cloud(o3d.geometry.PointCloud(o3d.utility.Vector3dVector(tgt)), voxel_size)\n",
    "            distance_threshold = voxel_size * 0.5\n",
    "            pred_tsf = o3d.pipelines.registration.registration_fgr_based_on_feature_matching(\n",
    "                            src_cloud, tgt_cloud, source_fpfh, target_fpfh,\n",
    "                            o3d.pipelines.registration.FastGlobalRegistrationOption(\n",
    "                                maximum_correspondence_distance=distance_threshold)).transformation\n",
    "            R_pred = pred_tsf[:3,:3].copy()\n",
    "            pred_t = pred_tsf[:3,3].copy()\n",
    "            #Displays the point clouds and the transformation\n",
    "            # display_open3d(tgt, src, gt_tsf)\n",
    "            # display_open3d(tgt, src, pred_tsf)\n",
    "\n",
    "            #Computes the metrics\n",
    "            \n",
    "            #convert rotations to euler angles\n",
    "            gt_euler = Rotation.from_matrix(gt_R).as_euler('zyx', degrees=True)\n",
    "            pred_euler = Rotation.from_matrix(R_pred).as_euler('zyx', degrees=True)\n",
    "\n",
    "            #compute the translation error\n",
    "            t_mse += np.mean(np.square(gt_t - pred_t))\n",
    "            t_mae += np.mean(np.abs(gt_t - pred_t))\n",
    "            # t_rmse += np.sqrt(t_mse)\n",
    "\n",
    "            #compute the rotation error\n",
    "            c_r_mae = np.mean(np.abs(gt_euler - pred_euler))\n",
    "            r_mse += np.mean(np.square(gt_euler - pred_euler))\n",
    "            r_mae += np.mean(np.abs(gt_euler - pred_euler))\n",
    "            # r_rmse += np.sqrt(r_mse)\n",
    "            \n",
    "            #compute irotropic error\n",
    "            error_mat = np.dot(gt_R.T , R_pred)\n",
    "            _, angle = transforms3d.axangles.mat2axangle(error_mat)\n",
    "            r_error1 = abs(angle*(180/np.pi))\n",
    "            r_error = np.arccos(np.clip((np.trace(error_mat)-1)/2, -1, 1))\n",
    "            r_error = r_error*180/np.pi\n",
    "            if c_r_mae > 5:\n",
    "                idx.append((j,i))\n",
    "            if r_error > 5:\n",
    "                r_idx.append((j,i))\n",
    "            count += 1\n",
    "    metrics = {\n",
    "        'r_mse': r_mse/count,\n",
    "        't_mse': t_mse/count,\n",
    "        'r_mae': r_mae/count,\n",
    "        't_mae': t_mae/count,\n",
    "        # 'r_rmse': r_rmse/count,\n",
    "        # 't_rmse': t_rmse/count\n",
    "    }\n",
    "    return metrics, idx, r_idx\n"
   ]
  },
  {
   "cell_type": "code",
   "execution_count": 8,
   "metadata": {},
   "outputs": [
    {
     "name": "stderr",
     "output_type": "stream",
     "text": [
      " 41%|████      | 63/154 [03:25<04:57,  3.27s/it]\n"
     ]
    },
    {
     "ename": "RuntimeError",
     "evalue": "[Open3D Error] (__cdecl open3d::utility::random::UniformIntGenerator<int>::UniformIntGenerator(const int,const int)) D:\\a\\Open3D\\Open3D\\cpp\\open3d/utility/Random.h:77: low must be < high, but got low=0 and high=0.\n",
     "output_type": "error",
     "traceback": [
      "\u001b[1;31m---------------------------------------------------------------------------\u001b[0m",
      "\u001b[1;31mRuntimeError\u001b[0m                              Traceback (most recent call last)",
      "Cell \u001b[1;32mIn[8], line 1\u001b[0m\n\u001b[1;32m----> 1\u001b[0m \u001b[39meval\u001b[39m, idx, r_idx \u001b[39m=\u001b[39m evaluate_icp(\u001b[39m1\u001b[39;49m, test_loader)\n",
      "Cell \u001b[1;32mIn[7], line 25\u001b[0m, in \u001b[0;36mevaluate_icp\u001b[1;34m(voxel_size, test_loader)\u001b[0m\n\u001b[0;32m     23\u001b[0m tgt_cloud, target_fpfh \u001b[39m=\u001b[39m preprocess_point_cloud(o3d\u001b[39m.\u001b[39mgeometry\u001b[39m.\u001b[39mPointCloud(o3d\u001b[39m.\u001b[39mutility\u001b[39m.\u001b[39mVector3dVector(tgt)), voxel_size)\n\u001b[0;32m     24\u001b[0m distance_threshold \u001b[39m=\u001b[39m voxel_size \u001b[39m*\u001b[39m \u001b[39m0.5\u001b[39m\n\u001b[1;32m---> 25\u001b[0m pred_tsf \u001b[39m=\u001b[39m o3d\u001b[39m.\u001b[39;49mpipelines\u001b[39m.\u001b[39;49mregistration\u001b[39m.\u001b[39;49mregistration_fgr_based_on_feature_matching(\n\u001b[0;32m     26\u001b[0m                 src_cloud, tgt_cloud, source_fpfh, target_fpfh,\n\u001b[0;32m     27\u001b[0m                 o3d\u001b[39m.\u001b[39;49mpipelines\u001b[39m.\u001b[39;49mregistration\u001b[39m.\u001b[39;49mFastGlobalRegistrationOption(\n\u001b[0;32m     28\u001b[0m                     maximum_correspondence_distance\u001b[39m=\u001b[39;49mdistance_threshold))\u001b[39m.\u001b[39mtransformation\n\u001b[0;32m     29\u001b[0m R_pred \u001b[39m=\u001b[39m pred_tsf[:\u001b[39m3\u001b[39m,:\u001b[39m3\u001b[39m]\u001b[39m.\u001b[39mcopy()\n\u001b[0;32m     30\u001b[0m pred_t \u001b[39m=\u001b[39m pred_tsf[:\u001b[39m3\u001b[39m,\u001b[39m3\u001b[39m]\u001b[39m.\u001b[39mcopy()\n",
      "\u001b[1;31mRuntimeError\u001b[0m: [Open3D Error] (__cdecl open3d::utility::random::UniformIntGenerator<int>::UniformIntGenerator(const int,const int)) D:\\a\\Open3D\\Open3D\\cpp\\open3d/utility/Random.h:77: low must be < high, but got low=0 and high=0.\n"
     ]
    }
   ],
   "source": [
    "eval, idx, r_idx = evaluate_icp(1, test_loader)"
   ]
  },
  {
   "cell_type": "code",
   "execution_count": 17,
   "metadata": {},
   "outputs": [
    {
     "data": {
      "text/plain": [
       "{'r_mse': 7.175557453211081,\n",
       " 't_mse': 2.8264066899970393e-06,\n",
       " 'r_mae': 0.10633259270726371,\n",
       " 't_mae': 0.00019154534187126935}"
      ]
     },
     "execution_count": 17,
     "metadata": {},
     "output_type": "execute_result"
    }
   ],
   "source": [
    "eval"
   ]
  },
  {
   "cell_type": "code",
   "execution_count": 16,
   "metadata": {},
   "outputs": [
    {
     "name": "stderr",
     "output_type": "stream",
     "text": [
      "100%|██████████| 154/154 [00:26<00:00,  5.89it/s]\n"
     ]
    }
   ],
   "source": [
    "threshold = 1\n",
    "max_iteration = 30\n",
    "for j, data in enumerate(tqdm(test_loader)):\n",
    "    template, source, igt, igt_R, igt_t = data\n",
    "    template = template.detach().numpy()\n",
    "    source = source.detach().numpy()\n",
    "    igt = igt.detach().numpy()\n",
    "    igt_R = igt_R.detach().numpy()\n",
    "    igt_t = igt_t.detach().numpy()\n",
    "    for i in range(template.shape[0]):\n",
    "        if (j,i) in idx and (j,i) in r_idx:\n",
    "            gt_t  = igt_t[i] - np.mean(igt_t[i], axis=0)\n",
    "            gt_R = igt_R[i]\n",
    "            src = template[i] - np.mean(template[i], axis=0)\n",
    "            tgt = source[i] - np.mean(source[i], axis=0)\n",
    "            gt_tsf = convert_to_trans(gt_R,gt_t)\n",
    "            pred_tsf = o3d.pipelines.registration.registration_icp(\n",
    "                        o3d.geometry.PointCloud(o3d.utility.Vector3dVector(src)), o3d.geometry.PointCloud(o3d.utility.Vector3dVector(tgt)), threshold, np.eye(4),\n",
    "                        o3d.pipelines.registration.TransformationEstimationPointToPoint(),\n",
    "                        o3d.pipelines.registration.ICPConvergenceCriteria(max_iteration = max_iteration)).transformation\n",
    "            R_pred = pred_tsf[:3,:3].copy()\n",
    "            pred_t = pred_tsf[:3,3].copy()\n",
    "            #Displays the point clouds and the transformation\n",
    "            # display_open3d(tgt, src, gt_tsf)\n",
    "            display_open3d(tgt, src, pred_tsf)\n",
    "        else:\n",
    "            continue"
   ]
  },
  {
   "cell_type": "code",
   "execution_count": null,
   "metadata": {},
   "outputs": [],
   "source": []
  }
 ],
 "metadata": {
  "kernelspec": {
   "display_name": "pytorch3d",
   "language": "python",
   "name": "python3"
  },
  "language_info": {
   "codemirror_mode": {
    "name": "ipython",
    "version": 3
   },
   "file_extension": ".py",
   "mimetype": "text/x-python",
   "name": "python",
   "nbconvert_exporter": "python",
   "pygments_lexer": "ipython3",
   "version": "3.9.16"
  },
  "orig_nbformat": 4
 },
 "nbformat": 4,
 "nbformat_minor": 2
}
